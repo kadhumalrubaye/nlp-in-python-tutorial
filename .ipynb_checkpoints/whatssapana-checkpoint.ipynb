{
 "cells": [
  {
   "cell_type": "code",
   "execution_count": null,
   "metadata": {},
   "outputs": [],
   "source": [
    "import re\n",
    "import pandas as pd\n",
    "\n",
    "# data=None\n",
    "# time=None\n",
    "# ampm=None\n",
    "# msg=None\n",
    "# he=None\n",
    "# she=None\n",
    "\n",
    "file = open(r'./alichat.txt',mode='r',encoding=\"utf8\")\n",
    "data = file.read()\n",
    "file.close()\n",
    "# bob, john, jen = [a.split() for a in open(file)]\n",
    "\n",
    "data\n"
   ]
  },
  {
   "cell_type": "code",
   "execution_count": null,
   "metadata": {},
   "outputs": [],
   "source": [
    "# print(data)\n",
    "# pattern = re.compile('[\\[0-9.:\\ A-Z\\]]*[a-z]*')\n",
    "arabic_msg_pattern='[\\u0621-\\u064A\\ \\n]+' #from alef-yaa including white spateces and new line(if the pattern was in new line)\n",
    "sender_pattern='[\\u0627-\\u064a\\s]*:\\s|[a-zA-Z0-9\\s]*:\\s'\n",
    "date_pattern='[0-9]+\\.[0-9]+\\.[0-9]+\\s'\n",
    "time_pattern='[0-9]+:[0-9]+:[0-9]+\\s'\n",
    "full_date_pattern='\\[[0-9]+\\.[0-9]+\\.[0-9]+\\s\\]\\s'\n",
    "\n",
    "pattern = re.compile('[\\[0-9.:\\ A-Z\\]\\ ]+[a-zA-Z0-9\\u0627-\\u064a\\s]*:\\s[\\n\\u0621-\\u064A\\n\\s]+') #determin our special rules\n",
    "messengers = re.findall(pattern,data) #splete each message line\n",
    "#now i will splite the date and time and sender and messeger\n",
    "messengers\n"
   ]
  },
  {
   "cell_type": "code",
   "execution_count": null,
   "metadata": {},
   "outputs": [],
   "source": [
    "find_date=re.compile(date_pattern) #find date\n",
    "find_time=re.compile(time_pattern) #find tim\n",
    "find_sender=re.compile(sender_pattern) #find sender\n",
    "find_msg=re.compile(arabic_msg_pattern) #find date\n",
    "\n",
    "ls=[]\n",
    "for i in messengers:\n",
    "    date_pattern_= re.findall(date_pattern,i)\n",
    "    time_pattern_= re.findall(time_pattern,i)\n",
    "    sender= re.findall(sender_pattern,i)\n",
    "    msg=re.findall(arabic_msg_pattern,i)\n",
    "    tp=(date_pattern_,time_pattern_,sender,msg)\n",
    "    ls.append(tp)\n",
    "# ls\n",
    "# print(ls)\n",
    "noise=re.compile(':|\\\\n')\n",
    "# for i in ls:\n",
    "#     cela=re.sub(noise,str(''.join(i)))\n",
    "#     print(i)\n",
    "\n",
    "df=pd.DataFrame.from_records(ls,columns=['date','time','sender','msg'])\n",
    "# df=df.set_index('date')\n",
    "df"
   ]
  },
  {
   "cell_type": "code",
   "execution_count": null,
   "metadata": {},
   "outputs": [],
   "source": [
    "ls=[]\n",
    "for i in messengers:\n",
    "    date_pattern_= re.findall(date_pattern,i)\n",
    "    time_pattern_= re.findall(time_pattern,i)\n",
    "    sender= re.findall(sender_pattern,i)\n",
    "    msg=re.findall(arabic_msg_pattern,i)\n",
    "    tp=(date_pattern_,time_pattern_,sender,msg)\n",
    "    ls.append(tp)\n",
    "ls"
   ]
  },
  {
   "cell_type": "code",
   "execution_count": null,
   "metadata": {},
   "outputs": [],
   "source": [
    "noise=re.compile(':|\\\\n')\n",
    "# for i in ls:\n",
    "#     cela=re.sub(noise,str(''.join(i)))\n",
    "#     print(i)\n",
    "\n",
    "df=pd.DataFrame.from_records(ls,columns=['date','time','sender','msg'])\n",
    "# df=df.set_index('date')\n",
    "df.tail(10)"
   ]
  },
  {
   "cell_type": "code",
   "execution_count": null,
   "metadata": {},
   "outputs": [],
   "source": [
    "def celanclmn(text):\n",
    "    noise=re.compile(\"\"\" \\\\\\| \\]|\\[|'|;|,|n| \"\"\",re.VERBOSE)\n",
    "    text=str(text)\n",
    "    text=re.sub(noise,'',text)\n",
    "#     text=text.replace('\\',' ')\n",
    "    return text\n",
    "\n",
    "round1=lambda x:celanclmn(x)\n",
    "round1('he]')"
   ]
  },
  {
   "cell_type": "code",
   "execution_count": null,
   "metadata": {},
   "outputs": [],
   "source": [
    "df['date'].apply(round1)"
   ]
  },
  {
   "cell_type": "code",
   "execution_count": null,
   "metadata": {},
   "outputs": [],
   "source": [
    "mdf=pd.DataFrame()\n",
    "for clmn in df:\n",
    "    mdf[clmn]=df[clmn].apply(round1)\n",
    " \n",
    "pd.set_option('max_colwidth',300)\n",
    "mdf\n",
    "#TODO donot remove : of the time"
   ]
  },
  {
   "cell_type": "code",
   "execution_count": null,
   "metadata": {},
   "outputs": [],
   "source": []
  },
  {
   "cell_type": "code",
   "execution_count": null,
   "metadata": {},
   "outputs": [],
   "source": []
  }
 ],
 "metadata": {
  "kernelspec": {
   "display_name": "Python 3",
   "language": "python",
   "name": "python3"
  },
  "language_info": {
   "codemirror_mode": {
    "name": "ipython",
    "version": 3
   },
   "file_extension": ".py",
   "mimetype": "text/x-python",
   "name": "python",
   "nbconvert_exporter": "python",
   "pygments_lexer": "ipython3",
   "version": "3.8.1"
  }
 },
 "nbformat": 4,
 "nbformat_minor": 4
}
