{
 "cells": [
  {
   "cell_type": "code",
   "execution_count": null,
   "metadata": {},
   "outputs": [],
   "source": [
    "from bs4 import BeautifulSoup\n",
    "import requests\n",
    "import pandas as pd\n",
    "%matplotlib inline \n",
    "import matplotlib.pyplot as plt\n",
    "\n",
    "page=requests.get('https://sotor.com/%D9%85%D9%82%D8%A7%D9%84_%D9%88%D8%B5%D9%81%D9%8A_%D8%B9%D9%86_%D8%A7%D9%84%D9%85%D8%B7%D8%B1')\n",
    "soup = BeautifulSoup(page.content, 'html.parser')\n",
    "artical =soup.find(id='mw-content-text')\n",
    "par=artical.find('p').text\n",
    "author='kadhum'\n",
    "data_list=[]\n",
    "data_list.append(par)\n",
    "data={}\n",
    "data[author]=data_list\n",
    "\n",
    "\n",
    "\n",
    "page2=requests.get('https://mawdoo3.com/%D8%AA%D9%82%D8%B1%D9%8A%D8%B1_%D8%B9%D9%86_%D8%A7%D9%84%D9%85%D8%B7%D8%B1')\n",
    "soup2 = BeautifulSoup(page2.content, 'html.parser')\n",
    "artical2=soup2.find(id='mw-content-text')\n",
    "par2=artical2.find('p').text\n",
    "author2='ali'\n",
    "data_list2=[]\n",
    "data_list2.append(par2)\n",
    "data2={}\n",
    "data2[author2]=data_list2\n",
    "\n",
    "data.update(data2)\n",
    "\n",
    "\n",
    "\n",
    "\n"
   ]
  },
  {
   "cell_type": "code",
   "execution_count": null,
   "metadata": {},
   "outputs": [],
   "source": [
    "print(data)"
   ]
  },
  {
   "cell_type": "code",
   "execution_count": null,
   "metadata": {},
   "outputs": [],
   "source": [
    "pd.set_option('max_colwidth',150)\n",
    "df=pd.DataFrame.from_dict(data).transpose()\n",
    "df.columns=['novels']\n",
    "\n",
    "df=df.sort_index()\n",
    "# print(df.sort_index())\n",
    "\n",
    "df"
   ]
  },
  {
   "cell_type": "code",
   "execution_count": null,
   "metadata": {},
   "outputs": [],
   "source": [
    "import re\n",
    "import string\n",
    "\n",
    "def clean_text(text):\n",
    "    \n",
    "        jumla=text\n",
    "        noise = re.compile(\"\"\"،| ّ    |  َ    |  ً    |  ُ    |  ٌ    |   ِ    |   ٍ    |  ْ    |   ـ \"\"\",re.VERBOSE)\n",
    "        jumla = re.sub(noise, '', jumla)\n",
    "        arabicword=re.sub(\"\\[.*?\\]\", '' ,jumla)\n",
    "        arabicword=re.sub('\\w*\\d\\w*' ,'',jumla)\n",
    "        # arabicword=re.findall('^[\\u0621-\\u064A\\u0660-\\u0669-a-z ]*',jumla)\n",
    "        arabicword = re.sub('[%s]' % re.escape(string.punctuation), '', jumla)\n",
    "        return arabicword\n",
    "round1=lambda x:clean_text(x)\n",
    "datacelan=pd.DataFrame(df.novels.apply(round1))\n",
    "datacelan"
   ]
  },
  {
   "cell_type": "code",
   "execution_count": null,
   "metadata": {},
   "outputs": [],
   "source": [
    "def clean_text_round2(text):\n",
    "    '''Get rid of some additional punctuation and non-sensical text that was missed the first time around.'''\n",
    "    text = re.sub('[‘’“”…]', '', text)\n",
    "    text = re.sub('\\n', '', text)\n",
    "    return text\n",
    "\n",
    "round2 = lambda x: clean_text_round2(x)\n",
    "datacelan=pd.DataFrame(df.novels.apply(round1))\n",
    "datacelan"
   ]
  },
  {
   "cell_type": "code",
   "execution_count": 163,
   "metadata": {},
   "outputs": [],
   "source": [
    "arabic_stop_words_=[\"من\",\"إلى\"]\n",
    "from sklearn.feature_extraction.text import CountVectorizer\n",
    "\n",
    "cv = CountVectorizer(stop_words=arabic_stop_words_)\n",
    "data_cv = cv.fit_transform(datacelan.novels)\n",
    "data_dtm = pd.DataFrame(data_cv.toarray(), columns=cv.get_feature_names())\n",
    "data_dtm.index = datacelan.index\n",
    "data_dtm"
   ]
  },
  {
   "cell_type": "code",
   "execution_count": 166,
   "metadata": {},
   "outputs": [],
   "source": [
    "# x= data_dtm.iloc[:,10:30]\n",
    "# x.plot"
   ]
  },
  {
   "cell_type": "code",
   "execution_count": 169,
   "metadata": {},
   "outputs": [],
   "source": [
    "data_dtm.plot\n",
    "plt.show()"
   ]
  },
  {
   "cell_type": "code",
   "execution_count": null,
   "metadata": {},
   "outputs": [],
   "source": []
  },
  {
   "cell_type": "code",
   "execution_count": null,
   "metadata": {},
   "outputs": [],
   "source": []
  }
 ],
 "metadata": {
  "kernelspec": {
   "display_name": "Python 3",
   "language": "python",
   "name": "python3"
  },
  "language_info": {
   "codemirror_mode": {
    "name": "ipython",
    "version": 3
   },
   "file_extension": ".py",
   "mimetype": "text/x-python",
   "name": "python",
   "nbconvert_exporter": "python",
   "pygments_lexer": "ipython3",
   "version": "3.8.1"
  }
 },
 "nbformat": 4,
 "nbformat_minor": 4
}
