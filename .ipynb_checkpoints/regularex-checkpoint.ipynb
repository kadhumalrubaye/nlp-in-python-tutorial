{
 "cells": [
  {
   "cell_type": "code",
   "execution_count": 31,
   "metadata": {},
   "outputs": [
    {
     "name": "stdout",
     "output_type": "stream",
     "text": [
      "المطر هو قطرات الماء التي تتساقط من السحاب على الأرض، والتي تبثّ الحياة في الكائنات على اختلافها، ويعتبر المطر شكلاً من أشكال الماء في الطبيعة، حيث يمثّل الحالة السائلة للماء، ويتكوّن من خلال تبخّر مياه المسطّحات المائيّة المختلفة بفعل أشعّة الشمس فيتحوّل الماء من الحالة السائلة إلى البخار أو الحالة الغازيّة، ثمّ يصعد لأعالي الجو، ويلامس الطبقات الباردة منه، مسبّباً حدوث التكاثف، فتمتلأ الغيوم به وتنتقل من مكانٍ لآخر بفعل الرياح وتتساقط أخيراً عليها، وتتساقط الأمطار في فصل الشتاء تحديداً في الوضع الطبيعي، أما في المناطق الاستوائية فتتساقط بكثافةٍ على مدار السنة، والمطر هو من أساسيات وجود الماء على سطح الكرة الأرضيّة، ويقول الله سبحانه وتعالى في محكم تنزيله في القرآن الكريم وَجَعَلْنَا مِنَ الْمَاء كُلَّ شَيْءٍ حَيٍّ، في إشارةٍ لعظم أهميّة الماء الذي يضمن الحياة للكائنات الحية من إنسانٍ ونباتٍ وحيوان، ويؤدّي نقصها وشحها إلى تهديد حياته وهلاكه، وفي هذا المقال سنتطرق للحديث عن فوائد المطر والأخطار الناجمة عن قلّة تساقطه\n"
     ]
    }
   ],
   "source": [
    "import re\n",
    "import string\n",
    "\n",
    "jumal='hello, how are you [good].'\n",
    "arabicword=re.sub(\"\\[.*?\\]\", '' ,jumla)\n",
    "arabicword=re.sub('\\w*\\d\\w*' ,'',jumla)\n",
    "# arabicword=re.findall('^[\\u0621-\\u064A\\u0660-\\u0669-a-z ]*',jumla)\n",
    "arabicword = re.sub('[%s]' % re.escape(string.punctuation), '', jumla)\n",
    "print(arabicword)\n"
   ]
  },
  {
   "cell_type": "code",
   "execution_count": null,
   "metadata": {},
   "outputs": [],
   "source": []
  },
  {
   "cell_type": "code",
   "execution_count": null,
   "metadata": {},
   "outputs": [],
   "source": []
  }
 ],
 "metadata": {
  "kernelspec": {
   "display_name": "Python 3",
   "language": "python",
   "name": "python3"
  },
  "language_info": {
   "codemirror_mode": {
    "name": "ipython",
    "version": 3
   },
   "file_extension": ".py",
   "mimetype": "text/x-python",
   "name": "python",
   "nbconvert_exporter": "python",
   "pygments_lexer": "ipython3",
   "version": "3.8.1"
  }
 },
 "nbformat": 4,
 "nbformat_minor": 4
}
