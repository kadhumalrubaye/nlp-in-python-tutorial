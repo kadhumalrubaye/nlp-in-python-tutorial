{
 "cells": [
  {
   "cell_type": "code",
   "execution_count": null,
   "metadata": {},
   "outputs": [],
   "source": [
    "import pandas as pd \n",
    "import seaborn as sb\n",
    "import matplotlib.pyplot as plt\n",
    "\n",
    "\n",
    "\n",
    "\n",
    "\n"
   ]
  },
  {
   "cell_type": "code",
   "execution_count": null,
   "metadata": {},
   "outputs": [],
   "source": [
    "datasetfile=pd.read_csv('datasets/pinfo.csv')\n"
   ]
  },
  {
   "cell_type": "code",
   "execution_count": null,
   "metadata": {},
   "outputs": [],
   "source": [
    "#show dataset information\n",
    "#--------------------------------------------------------------------------------------------------#\n"
   ]
  },
  {
   "cell_type": "code",
   "execution_count": 275,
   "metadata": {},
   "outputs": [
    {
     "name": "stdout",
     "output_type": "stream",
     "text": [
      "<class 'pandas.core.frame.DataFrame'>\n",
      "RangeIndex: 64204 entries, 0 to 64203\n",
      "Data columns (total 23 columns):\n",
      " #   Column                   Non-Null Count  Dtype \n",
      "---  ------                   --------------  ----- \n",
      " 0   #                        64204 non-null  int64 \n",
      " 1   EnrollmentDate           64204 non-null  object\n",
      " 2   CaseNumber               64204 non-null  object\n",
      " 3   IndividualId             64204 non-null  object\n",
      " 4   RationCard               64204 non-null  object\n",
      " 5   Governorate              64204 non-null  object\n",
      " 6   District                 64204 non-null  object\n",
      " 7   Camp                     64204 non-null  object\n",
      " 8   Tent                     64204 non-null  object\n",
      " 9   ArabicName               64204 non-null  object\n",
      " 10  EnglishName              64204 non-null  object\n",
      " 11  MotherName               64204 non-null  object\n",
      " 12  DateOfBirth              64204 non-null  object\n",
      " 13  PhoneNumber              64204 non-null  object\n",
      " 14  Documents                64204 non-null  object\n",
      " 15  DocumentsNumbers         64204 non-null  object\n",
      " 16  FSP                      64204 non-null  object\n",
      " 17  MSIDIN #                 64204 non-null  int64 \n",
      " 18  date of transfer         64204 non-null  object\n",
      " 19  Camp/ out of camp        64204 non-null  object\n",
      " 20  Total Assistance amount  64204 non-null  object\n",
      " 21  arennames                64204 non-null  object\n",
      " 22  newfeature               64204 non-null  object\n",
      "dtypes: int64(2), object(21)\n",
      "memory usage: 6.1+ MB\n"
     ]
    }
   ],
   "source": [
    "#it is very important to know the type of every column because if they are defferint that's will effect\n",
    "datasetfile.info()\n"
   ]
  },
  {
   "cell_type": "code",
   "execution_count": null,
   "metadata": {},
   "outputs": [],
   "source": [
    "#4   RationCard               9192 non-null   object  that means 9192 of all values(which are 64204) are not null"
   ]
  },
  {
   "cell_type": "code",
   "execution_count": 274,
   "metadata": {},
   "outputs": [
    {
     "data": {
      "text/html": [
       "<div>\n",
       "<style scoped>\n",
       "    .dataframe tbody tr th:only-of-type {\n",
       "        vertical-align: middle;\n",
       "    }\n",
       "\n",
       "    .dataframe tbody tr th {\n",
       "        vertical-align: top;\n",
       "    }\n",
       "\n",
       "    .dataframe thead th {\n",
       "        text-align: right;\n",
       "    }\n",
       "</style>\n",
       "<table border=\"1\" class=\"dataframe\">\n",
       "  <thead>\n",
       "    <tr style=\"text-align: right;\">\n",
       "      <th></th>\n",
       "      <th>#</th>\n",
       "      <th>EnrollmentDate</th>\n",
       "      <th>CaseNumber</th>\n",
       "      <th>IndividualId</th>\n",
       "      <th>RationCard</th>\n",
       "      <th>Governorate</th>\n",
       "      <th>District</th>\n",
       "      <th>Camp</th>\n",
       "      <th>Tent</th>\n",
       "      <th>ArabicName</th>\n",
       "      <th>EnglishName</th>\n",
       "      <th>MotherName</th>\n",
       "      <th>DateOfBirth</th>\n",
       "      <th>PhoneNumber</th>\n",
       "      <th>Documents</th>\n",
       "      <th>DocumentsNumbers</th>\n",
       "      <th>FSP</th>\n",
       "      <th>MSIDIN #</th>\n",
       "      <th>date of transfer</th>\n",
       "      <th>Camp/ out of camp</th>\n",
       "      <th>Total Assistance amount</th>\n",
       "      <th>arennames</th>\n",
       "      <th>newfeature</th>\n",
       "    </tr>\n",
       "  </thead>\n",
       "  <tbody>\n",
       "    <tr>\n",
       "      <th>0</th>\n",
       "      <td>25480</td>\n",
       "      <td>9/22/19</td>\n",
       "      <td>IRQ-19C419285</td>\n",
       "      <td>IRQ-03012784</td>\n",
       "      <td>empety</td>\n",
       "      <td>Al-Sulaymaniya</td>\n",
       "      <td>qaradagh</td>\n",
       "      <td>Ashti IDP</td>\n",
       "      <td>A113</td>\n",
       "      <td>قيصر خميس نايف عكاب</td>\n",
       "      <td>Qaisar Khamis Nayf Aljanaby</td>\n",
       "      <td>ضواهن مغامس خضير</td>\n",
       "      <td>8/5/98</td>\n",
       "      <td>07819157838#07738389135</td>\n",
       "      <td>7738389135</td>\n",
       "      <td>23</td>\n",
       "      <td>Asia Hawala</td>\n",
       "      <td>7700116570</td>\n",
       "      <td>24/02/2020</td>\n",
       "      <td>In- Camp</td>\n",
       "      <td>IQD 240000</td>\n",
       "      <td>قيصر خميس نايف عكابQaisar Khamis Nayf Aljanaby</td>\n",
       "      <td>قيصر خميس نايف عكابQaisar Khamis Nayf Aljanaby</td>\n",
       "    </tr>\n",
       "    <tr>\n",
       "      <th>1</th>\n",
       "      <td>25481</td>\n",
       "      <td>9/22/19</td>\n",
       "      <td>IRQ-19C419093</td>\n",
       "      <td>IRQ-03012592</td>\n",
       "      <td>empety</td>\n",
       "      <td>Al-Sulaymaniya</td>\n",
       "      <td>qaradagh</td>\n",
       "      <td>Ashti IDP</td>\n",
       "      <td>K041</td>\n",
       "      <td>حمزه احمد خلف احمد</td>\n",
       "      <td>Hamza Ahmed Khalf Ahmed</td>\n",
       "      <td>جميله مهنا عبد</td>\n",
       "      <td>5/15/97</td>\n",
       "      <td>07828357642#07738381470</td>\n",
       "      <td>7738381470</td>\n",
       "      <td>23</td>\n",
       "      <td>Asia Hawala</td>\n",
       "      <td>7700118609</td>\n",
       "      <td>24/02/2020</td>\n",
       "      <td>In- Camp</td>\n",
       "      <td>IQD 240000</td>\n",
       "      <td>حمزه احمد خلف احمدHamza Ahmed Khalf Ahmed</td>\n",
       "      <td>حمزه احمد خلف احمدHamza Ahmed Khalf Ahmed</td>\n",
       "    </tr>\n",
       "    <tr>\n",
       "      <th>2</th>\n",
       "      <td>25484</td>\n",
       "      <td>9/22/19</td>\n",
       "      <td>IRQ-19C418985</td>\n",
       "      <td>IRQ-03012484</td>\n",
       "      <td>empety</td>\n",
       "      <td>Al-Sulaymaniya</td>\n",
       "      <td>qaradagh</td>\n",
       "      <td>Ashti IDP</td>\n",
       "      <td>L097</td>\n",
       "      <td>شذره احمد محمد شكور</td>\n",
       "      <td>Shazra Ahmed Muhamed Shkwr</td>\n",
       "      <td>صالحه حسين علي</td>\n",
       "      <td>7/1/51</td>\n",
       "      <td>07700147366#07700655459</td>\n",
       "      <td>empety</td>\n",
       "      <td>empety</td>\n",
       "      <td>Asia Hawala</td>\n",
       "      <td>7700147366</td>\n",
       "      <td>24/02/2020</td>\n",
       "      <td>In- Camp</td>\n",
       "      <td>IQD 240000</td>\n",
       "      <td>شذره احمد محمد شكورShazra Ahmed Muhamed Shkwr</td>\n",
       "      <td>شذره احمد محمد شكورShazra Ahmed Muhamed Shkwr</td>\n",
       "    </tr>\n",
       "    <tr>\n",
       "      <th>3</th>\n",
       "      <td>25485</td>\n",
       "      <td>9/22/19</td>\n",
       "      <td>IRQ-19C420794</td>\n",
       "      <td>IRQ-03014293</td>\n",
       "      <td>empety</td>\n",
       "      <td>Al-Sulaymaniya</td>\n",
       "      <td>qaradagh</td>\n",
       "      <td>Ashti IDP</td>\n",
       "      <td>J224</td>\n",
       "      <td>لؤي نعمة مصلح جاسم</td>\n",
       "      <td>Luay  Naama  Muslih  Jasm</td>\n",
       "      <td>غاليه عباس احمد</td>\n",
       "      <td>3/29/93</td>\n",
       "      <td>07824897595#07738386930</td>\n",
       "      <td>#REF!</td>\n",
       "      <td>23</td>\n",
       "      <td>Asia Hawala</td>\n",
       "      <td>7700147370</td>\n",
       "      <td>24/02/2020</td>\n",
       "      <td>In- Camp</td>\n",
       "      <td>IQD 240000</td>\n",
       "      <td>لؤي نعمة مصلح جاسمLuay  Naama  Muslih  Jasm</td>\n",
       "      <td>لؤي نعمة مصلح جاسمLuay  Naama  Muslih  Jasm</td>\n",
       "    </tr>\n",
       "    <tr>\n",
       "      <th>4</th>\n",
       "      <td>25486</td>\n",
       "      <td>9/22/19</td>\n",
       "      <td>IRQ-19C419818</td>\n",
       "      <td>IRQ-03013317</td>\n",
       "      <td>empety</td>\n",
       "      <td>Al-Sulaymaniya</td>\n",
       "      <td>qaradagh</td>\n",
       "      <td>Arbat IDP</td>\n",
       "      <td>C152</td>\n",
       "      <td>حياة محمد حسين علي</td>\n",
       "      <td>Hayat Muhammad Hussein Ali</td>\n",
       "      <td>مهديه عناد حايط</td>\n",
       "      <td>7/1/68</td>\n",
       "      <td>07824965055#07700656129</td>\n",
       "      <td>#REF!</td>\n",
       "      <td>23</td>\n",
       "      <td>Asia Hawala</td>\n",
       "      <td>7700147386</td>\n",
       "      <td>24/02/2020</td>\n",
       "      <td>In- Camp</td>\n",
       "      <td>IQD 240000</td>\n",
       "      <td>حياة محمد حسين عليHayat Muhammad Hussein Ali</td>\n",
       "      <td>حياة محمد حسين عليHayat Muhammad Hussein Ali</td>\n",
       "    </tr>\n",
       "  </tbody>\n",
       "</table>\n",
       "</div>"
      ],
      "text/plain": [
       "       # EnrollmentDate     CaseNumber  IndividualId RationCard  \\\n",
       "0  25480        9/22/19  IRQ-19C419285  IRQ-03012784     empety   \n",
       "1  25481        9/22/19  IRQ-19C419093  IRQ-03012592     empety   \n",
       "2  25484        9/22/19  IRQ-19C418985  IRQ-03012484     empety   \n",
       "3  25485        9/22/19  IRQ-19C420794  IRQ-03014293     empety   \n",
       "4  25486        9/22/19  IRQ-19C419818  IRQ-03013317     empety   \n",
       "\n",
       "      Governorate  District       Camp  Tent           ArabicName  \\\n",
       "0  Al-Sulaymaniya  qaradagh  Ashti IDP  A113  قيصر خميس نايف عكاب   \n",
       "1  Al-Sulaymaniya  qaradagh  Ashti IDP  K041   حمزه احمد خلف احمد   \n",
       "2  Al-Sulaymaniya  qaradagh  Ashti IDP  L097  شذره احمد محمد شكور   \n",
       "3  Al-Sulaymaniya  qaradagh  Ashti IDP  J224   لؤي نعمة مصلح جاسم   \n",
       "4  Al-Sulaymaniya  qaradagh  Arbat IDP  C152   حياة محمد حسين علي   \n",
       "\n",
       "                   EnglishName        MotherName DateOfBirth  \\\n",
       "0  Qaisar Khamis Nayf Aljanaby  ضواهن مغامس خضير      8/5/98   \n",
       "1      Hamza Ahmed Khalf Ahmed    جميله مهنا عبد     5/15/97   \n",
       "2   Shazra Ahmed Muhamed Shkwr    صالحه حسين علي      7/1/51   \n",
       "3    Luay  Naama  Muslih  Jasm   غاليه عباس احمد     3/29/93   \n",
       "4   Hayat Muhammad Hussein Ali   مهديه عناد حايط      7/1/68   \n",
       "\n",
       "               PhoneNumber   Documents DocumentsNumbers          FSP  \\\n",
       "0  07819157838#07738389135  7738389135               23  Asia Hawala   \n",
       "1  07828357642#07738381470  7738381470               23  Asia Hawala   \n",
       "2  07700147366#07700655459      empety           empety  Asia Hawala   \n",
       "3  07824897595#07738386930       #REF!               23  Asia Hawala   \n",
       "4  07824965055#07700656129       #REF!               23  Asia Hawala   \n",
       "\n",
       "     MSIDIN # date of transfer Camp/ out of camp Total Assistance amount  \\\n",
       "0  7700116570       24/02/2020          In- Camp              IQD 240000   \n",
       "1  7700118609       24/02/2020          In- Camp              IQD 240000   \n",
       "2  7700147366       24/02/2020          In- Camp              IQD 240000   \n",
       "3  7700147370       24/02/2020          In- Camp              IQD 240000   \n",
       "4  7700147386       24/02/2020          In- Camp              IQD 240000   \n",
       "\n",
       "                                        arennames  \\\n",
       "0  قيصر خميس نايف عكابQaisar Khamis Nayf Aljanaby   \n",
       "1       حمزه احمد خلف احمدHamza Ahmed Khalf Ahmed   \n",
       "2   شذره احمد محمد شكورShazra Ahmed Muhamed Shkwr   \n",
       "3     لؤي نعمة مصلح جاسمLuay  Naama  Muslih  Jasm   \n",
       "4    حياة محمد حسين عليHayat Muhammad Hussein Ali   \n",
       "\n",
       "                                       newfeature  \n",
       "0  قيصر خميس نايف عكابQaisar Khamis Nayf Aljanaby  \n",
       "1       حمزه احمد خلف احمدHamza Ahmed Khalf Ahmed  \n",
       "2   شذره احمد محمد شكورShazra Ahmed Muhamed Shkwr  \n",
       "3     لؤي نعمة مصلح جاسمLuay  Naama  Muslih  Jasm  \n",
       "4    حياة محمد حسين عليHayat Muhammad Hussein Ali  "
      ]
     },
     "execution_count": 274,
     "metadata": {},
     "output_type": "execute_result"
    }
   ],
   "source": [
    "pd.set_option(\"display.max.columns\", None) #show all colmns in the screen\n",
    "datasetfile.head()\n"
   ]
  },
  {
   "cell_type": "code",
   "execution_count": null,
   "metadata": {},
   "outputs": [],
   "source": [
    "pd.set_option(\"display.precision\", 2)\n",
    "datasetfile.tail()"
   ]
  },
  {
   "cell_type": "code",
   "execution_count": null,
   "metadata": {},
   "outputs": [],
   "source": [
    "datasetfile.shape"
   ]
  },
  {
   "cell_type": "code",
   "execution_count": 210,
   "metadata": {},
   "outputs": [
    {
     "data": {
      "text/html": [
       "<div>\n",
       "<style scoped>\n",
       "    .dataframe tbody tr th:only-of-type {\n",
       "        vertical-align: middle;\n",
       "    }\n",
       "\n",
       "    .dataframe tbody tr th {\n",
       "        vertical-align: top;\n",
       "    }\n",
       "\n",
       "    .dataframe thead th {\n",
       "        text-align: right;\n",
       "    }\n",
       "</style>\n",
       "<table border=\"1\" class=\"dataframe\">\n",
       "  <thead>\n",
       "    <tr style=\"text-align: right;\">\n",
       "      <th></th>\n",
       "      <th>#</th>\n",
       "      <th>MSIDIN #</th>\n",
       "    </tr>\n",
       "  </thead>\n",
       "  <tbody>\n",
       "    <tr>\n",
       "      <th>count</th>\n",
       "      <td>64204.00</td>\n",
       "      <td>6.42e+04</td>\n",
       "    </tr>\n",
       "    <tr>\n",
       "      <th>mean</th>\n",
       "      <td>32102.50</td>\n",
       "      <td>2.24e+12</td>\n",
       "    </tr>\n",
       "    <tr>\n",
       "      <th>std</th>\n",
       "      <td>18534.24</td>\n",
       "      <td>4.07e+12</td>\n",
       "    </tr>\n",
       "    <tr>\n",
       "      <th>min</th>\n",
       "      <td>1.00</td>\n",
       "      <td>7.70e+09</td>\n",
       "    </tr>\n",
       "    <tr>\n",
       "      <th>25%</th>\n",
       "      <td>16051.75</td>\n",
       "      <td>7.71e+09</td>\n",
       "    </tr>\n",
       "    <tr>\n",
       "      <th>50%</th>\n",
       "      <td>32102.50</td>\n",
       "      <td>7.74e+09</td>\n",
       "    </tr>\n",
       "    <tr>\n",
       "      <th>75%</th>\n",
       "      <td>48153.25</td>\n",
       "      <td>7.74e+09</td>\n",
       "    </tr>\n",
       "    <tr>\n",
       "      <th>max</th>\n",
       "      <td>64204.00</td>\n",
       "      <td>9.65e+12</td>\n",
       "    </tr>\n",
       "  </tbody>\n",
       "</table>\n",
       "</div>"
      ],
      "text/plain": [
       "              #  MSIDIN #\n",
       "count  64204.00  6.42e+04\n",
       "mean   32102.50  2.24e+12\n",
       "std    18534.24  4.07e+12\n",
       "min        1.00  7.70e+09\n",
       "25%    16051.75  7.71e+09\n",
       "50%    32102.50  7.74e+09\n",
       "75%    48153.25  7.74e+09\n",
       "max    64204.00  9.65e+12"
      ]
     },
     "execution_count": 210,
     "metadata": {},
     "output_type": "execute_result"
    }
   ],
   "source": [
    "datasetfile.describe()"
   ]
  },
  {
   "cell_type": "code",
   "execution_count": null,
   "metadata": {},
   "outputs": [],
   "source": [
    "datasetfile.values\n",
    "type(datasetfile.values)"
   ]
  },
  {
   "cell_type": "code",
   "execution_count": 276,
   "metadata": {},
   "outputs": [
    {
     "data": {
      "text/plain": [
       "RangeIndex(start=0, stop=64204, step=1)"
      ]
     },
     "execution_count": 276,
     "metadata": {},
     "output_type": "execute_result"
    }
   ],
   "source": [
    "datasetfile.index"
   ]
  },
  {
   "cell_type": "code",
   "execution_count": null,
   "metadata": {},
   "outputs": [],
   "source": [
    "datasetfile.keys()\n",
    "datasetfile.values\n",
    "\n"
   ]
  },
  {
   "cell_type": "code",
   "execution_count": null,
   "metadata": {},
   "outputs": [],
   "source": [
    "datasetfile.axes"
   ]
  },
  {
   "cell_type": "code",
   "execution_count": 273,
   "metadata": {},
   "outputs": [
    {
     "data": {
      "text/plain": [
       "#                                                                    64204\n",
       "EnrollmentDate                                                      empety\n",
       "CaseNumber                                                   IRQ-19C469245\n",
       "IndividualId                                                        empety\n",
       "RationCard                                                          empety\n",
       "Governorate                                                         missan\n",
       "District                                                             zakho\n",
       "Camp                                                              laylan 2\n",
       "Tent                                                     ِA B54 3 ِA B54 4\n",
       "ArabicName                                             گيلان قحطان ابراهيم\n",
       "EnglishName                                     ‌Qusay Sabah Khalaf Hassan\n",
       "MotherName                                                  یازی نایف براك\n",
       "DateOfBirth                                                         empety\n",
       "PhoneNumber                                                           P-82\n",
       "Documents                                                           empety\n",
       "DocumentsNumbers                                                    empety\n",
       "FSP                                                             Zain Cash \n",
       "MSIDIN #                                                     9647906818164\n",
       "date of transfer                                                  4/2/2020\n",
       "Camp/ out of camp                                              Out of Camp\n",
       "Total Assistance amount                                         IQD 240000\n",
       "arennames                  گيلان قحطان ابراهيمGaelan Qahtan Ebraheem Alheb\n",
       "newfeature                 گيلان قحطان ابراهيمGaelan Qahtan Ebraheem Alheb\n",
       "dtype: object"
      ]
     },
     "execution_count": 273,
     "metadata": {},
     "output_type": "execute_result"
    }
   ],
   "source": [
    "datasetfile.max() #print the max value of each column"
   ]
  },
  {
   "cell_type": "code",
   "execution_count": 253,
   "metadata": {},
   "outputs": [],
   "source": [
    "#check data \n",
    "#---------------------------------------------------------------------------------#"
   ]
  },
  {
   "cell_type": "code",
   "execution_count": 272,
   "metadata": {},
   "outputs": [
    {
     "ename": "KeyError",
     "evalue": "\"None of [Index(['empety', 'empety', 'empety', 'empety', 'empety', 'empety', 'empety',\\n       'empety', 'empety', 'empety',\\n       ...\\n       'empety', 'empety', 'empety', 'empety', 'empety', 'empety', 'empety',\\n       'empety', 'empety', 'empety'],\\n      dtype='object', length=64204)] are in the [columns]\"",
     "output_type": "error",
     "traceback": [
      "\u001b[1;31m---------------------------------------------------------------------------\u001b[0m",
      "\u001b[1;31mKeyError\u001b[0m                                  Traceback (most recent call last)",
      "\u001b[1;32m<ipython-input-272-c4b270d5a371>\u001b[0m in \u001b[0;36m<module>\u001b[1;34m\u001b[0m\n\u001b[1;32m----> 1\u001b[1;33m \u001b[0mcd\u001b[0m\u001b[1;33m=\u001b[0m\u001b[0mdatasetfile\u001b[0m\u001b[1;33m[\u001b[0m\u001b[0mdatasetfile\u001b[0m\u001b[1;33m[\u001b[0m\u001b[1;34m'RationCard'\u001b[0m\u001b[1;33m]\u001b[0m\u001b[1;33m]\u001b[0m\u001b[1;33m\u001b[0m\u001b[1;33m\u001b[0m\u001b[0m\n\u001b[0m",
      "\u001b[1;32mc:\\users\\kadhu\\appdata\\local\\programs\\python\\python38-32\\lib\\site-packages\\pandas\\core\\frame.py\u001b[0m in \u001b[0;36m__getitem__\u001b[1;34m(self, key)\u001b[0m\n\u001b[0;32m   2804\u001b[0m             \u001b[1;32mif\u001b[0m \u001b[0mis_iterator\u001b[0m\u001b[1;33m(\u001b[0m\u001b[0mkey\u001b[0m\u001b[1;33m)\u001b[0m\u001b[1;33m:\u001b[0m\u001b[1;33m\u001b[0m\u001b[1;33m\u001b[0m\u001b[0m\n\u001b[0;32m   2805\u001b[0m                 \u001b[0mkey\u001b[0m \u001b[1;33m=\u001b[0m \u001b[0mlist\u001b[0m\u001b[1;33m(\u001b[0m\u001b[0mkey\u001b[0m\u001b[1;33m)\u001b[0m\u001b[1;33m\u001b[0m\u001b[1;33m\u001b[0m\u001b[0m\n\u001b[1;32m-> 2806\u001b[1;33m             \u001b[0mindexer\u001b[0m \u001b[1;33m=\u001b[0m \u001b[0mself\u001b[0m\u001b[1;33m.\u001b[0m\u001b[0mloc\u001b[0m\u001b[1;33m.\u001b[0m\u001b[0m_get_listlike_indexer\u001b[0m\u001b[1;33m(\u001b[0m\u001b[0mkey\u001b[0m\u001b[1;33m,\u001b[0m \u001b[0maxis\u001b[0m\u001b[1;33m=\u001b[0m\u001b[1;36m1\u001b[0m\u001b[1;33m,\u001b[0m \u001b[0mraise_missing\u001b[0m\u001b[1;33m=\u001b[0m\u001b[1;32mTrue\u001b[0m\u001b[1;33m)\u001b[0m\u001b[1;33m[\u001b[0m\u001b[1;36m1\u001b[0m\u001b[1;33m]\u001b[0m\u001b[1;33m\u001b[0m\u001b[1;33m\u001b[0m\u001b[0m\n\u001b[0m\u001b[0;32m   2807\u001b[0m \u001b[1;33m\u001b[0m\u001b[0m\n\u001b[0;32m   2808\u001b[0m         \u001b[1;31m# take() does not accept boolean indexers\u001b[0m\u001b[1;33m\u001b[0m\u001b[1;33m\u001b[0m\u001b[1;33m\u001b[0m\u001b[0m\n",
      "\u001b[1;32mc:\\users\\kadhu\\appdata\\local\\programs\\python\\python38-32\\lib\\site-packages\\pandas\\core\\indexing.py\u001b[0m in \u001b[0;36m_get_listlike_indexer\u001b[1;34m(self, key, axis, raise_missing)\u001b[0m\n\u001b[0;32m   1549\u001b[0m             \u001b[0mkeyarr\u001b[0m\u001b[1;33m,\u001b[0m \u001b[0mindexer\u001b[0m\u001b[1;33m,\u001b[0m \u001b[0mnew_indexer\u001b[0m \u001b[1;33m=\u001b[0m \u001b[0max\u001b[0m\u001b[1;33m.\u001b[0m\u001b[0m_reindex_non_unique\u001b[0m\u001b[1;33m(\u001b[0m\u001b[0mkeyarr\u001b[0m\u001b[1;33m)\u001b[0m\u001b[1;33m\u001b[0m\u001b[1;33m\u001b[0m\u001b[0m\n\u001b[0;32m   1550\u001b[0m \u001b[1;33m\u001b[0m\u001b[0m\n\u001b[1;32m-> 1551\u001b[1;33m         self._validate_read_indexer(\n\u001b[0m\u001b[0;32m   1552\u001b[0m             \u001b[0mkeyarr\u001b[0m\u001b[1;33m,\u001b[0m \u001b[0mindexer\u001b[0m\u001b[1;33m,\u001b[0m \u001b[0mo\u001b[0m\u001b[1;33m.\u001b[0m\u001b[0m_get_axis_number\u001b[0m\u001b[1;33m(\u001b[0m\u001b[0maxis\u001b[0m\u001b[1;33m)\u001b[0m\u001b[1;33m,\u001b[0m \u001b[0mraise_missing\u001b[0m\u001b[1;33m=\u001b[0m\u001b[0mraise_missing\u001b[0m\u001b[1;33m\u001b[0m\u001b[1;33m\u001b[0m\u001b[0m\n\u001b[0;32m   1553\u001b[0m         )\n",
      "\u001b[1;32mc:\\users\\kadhu\\appdata\\local\\programs\\python\\python38-32\\lib\\site-packages\\pandas\\core\\indexing.py\u001b[0m in \u001b[0;36m_validate_read_indexer\u001b[1;34m(self, key, indexer, axis, raise_missing)\u001b[0m\n\u001b[0;32m   1637\u001b[0m             \u001b[1;32mif\u001b[0m \u001b[0mmissing\u001b[0m \u001b[1;33m==\u001b[0m \u001b[0mlen\u001b[0m\u001b[1;33m(\u001b[0m\u001b[0mindexer\u001b[0m\u001b[1;33m)\u001b[0m\u001b[1;33m:\u001b[0m\u001b[1;33m\u001b[0m\u001b[1;33m\u001b[0m\u001b[0m\n\u001b[0;32m   1638\u001b[0m                 \u001b[0maxis_name\u001b[0m \u001b[1;33m=\u001b[0m \u001b[0mself\u001b[0m\u001b[1;33m.\u001b[0m\u001b[0mobj\u001b[0m\u001b[1;33m.\u001b[0m\u001b[0m_get_axis_name\u001b[0m\u001b[1;33m(\u001b[0m\u001b[0maxis\u001b[0m\u001b[1;33m)\u001b[0m\u001b[1;33m\u001b[0m\u001b[1;33m\u001b[0m\u001b[0m\n\u001b[1;32m-> 1639\u001b[1;33m                 \u001b[1;32mraise\u001b[0m \u001b[0mKeyError\u001b[0m\u001b[1;33m(\u001b[0m\u001b[1;34mf\"None of [{key}] are in the [{axis_name}]\"\u001b[0m\u001b[1;33m)\u001b[0m\u001b[1;33m\u001b[0m\u001b[1;33m\u001b[0m\u001b[0m\n\u001b[0m\u001b[0;32m   1640\u001b[0m \u001b[1;33m\u001b[0m\u001b[0m\n\u001b[0;32m   1641\u001b[0m             \u001b[1;31m# We (temporarily) allow for some missing keys with .loc, except in\u001b[0m\u001b[1;33m\u001b[0m\u001b[1;33m\u001b[0m\u001b[1;33m\u001b[0m\u001b[0m\n",
      "\u001b[1;31mKeyError\u001b[0m: \"None of [Index(['empety', 'empety', 'empety', 'empety', 'empety', 'empety', 'empety',\\n       'empety', 'empety', 'empety',\\n       ...\\n       'empety', 'empety', 'empety', 'empety', 'empety', 'empety', 'empety',\\n       'empety', 'empety', 'empety'],\\n      dtype='object', length=64204)] are in the [columns]\""
     ]
    }
   ],
   "source": [
    "cd=datasetfile[datasetfile['RationCard']]\n"
   ]
  },
  {
   "cell_type": "code",
   "execution_count": 258,
   "metadata": {},
   "outputs": [],
   "source": [
    "ds"
   ]
  },
  {
   "cell_type": "code",
   "execution_count": 256,
   "metadata": {},
   "outputs": [
    {
     "data": {
      "text/plain": [
       "#                          0\n",
       "EnrollmentDate             0\n",
       "CaseNumber                 0\n",
       "IndividualId               0\n",
       "RationCard                 0\n",
       "Governorate                0\n",
       "District                   0\n",
       "Camp                       0\n",
       "Tent                       0\n",
       "ArabicName                 0\n",
       "EnglishName                0\n",
       "MotherName                 0\n",
       "DateOfBirth                0\n",
       "PhoneNumber                0\n",
       "Documents                  0\n",
       "DocumentsNumbers           0\n",
       "FSP                        0\n",
       "MSIDIN #                   0\n",
       "date of transfer           0\n",
       "Camp/ out of camp          0\n",
       "Total Assistance amount    0\n",
       "arennames                  0\n",
       "newfeature                 0\n",
       "dtype: int64"
      ]
     },
     "execution_count": 256,
     "metadata": {},
     "output_type": "execute_result"
    }
   ],
   "source": [
    "#show all null as numbers for every feature\n",
    "datasetfile.isnull().sum()"
   ]
  },
  {
   "cell_type": "code",
   "execution_count": null,
   "metadata": {},
   "outputs": [],
   "source": [
    "#lis elemnts for single column \n",
    "datasetfile['ArabicName'].unique()"
   ]
  },
  {
   "cell_type": "code",
   "execution_count": null,
   "metadata": {},
   "outputs": [],
   "source": [
    "datasetfile['ArabicName'].nunique() #show elents number in thes column"
   ]
  },
  {
   "cell_type": "code",
   "execution_count": null,
   "metadata": {},
   "outputs": [],
   "source": [
    "datasetfile['ArabicName'].value_counts()"
   ]
  },
  {
   "cell_type": "code",
   "execution_count": null,
   "metadata": {},
   "outputs": [],
   "source": [
    "#data selection\n"
   ]
  },
  {
   "cell_type": "code",
   "execution_count": null,
   "metadata": {},
   "outputs": [],
   "source": [
    "#columns manuplation"
   ]
  },
  {
   "cell_type": "code",
   "execution_count": null,
   "metadata": {},
   "outputs": [],
   "source": [
    "df=pd.DataFrame(datasetfile)\n",
    "df['newfeature']=df['ArabicName'] + df['EnglishName'] #this add new column to the data\n",
    "df2=df['ArabicName'] + df['EnglishName'] #make new dataframe containes only tow column\n",
    "df,df2"
   ]
  },
  {
   "cell_type": "code",
   "execution_count": null,
   "metadata": {},
   "outputs": [],
   "source": [
    "newcompy_of_data=datasetfile.copy() #makes compy of original dataset\n",
    "newcompy_of_data"
   ]
  },
  {
   "cell_type": "code",
   "execution_count": null,
   "metadata": {},
   "outputs": [],
   "source": [
    "#rename columns"
   ]
  },
  {
   "cell_type": "code",
   "execution_count": null,
   "metadata": {},
   "outputs": [],
   "source": [
    "newcompy_of_data.rename(columns={'ArabicName':'Aarab','MotherName':'mother','PhoneNumber':'phonw'})#this will rename exist columns to new name"
   ]
  },
  {
   "cell_type": "code",
   "execution_count": null,
   "metadata": {},
   "outputs": [],
   "source": [
    "#column selection"
   ]
  },
  {
   "cell_type": "code",
   "execution_count": null,
   "metadata": {},
   "outputs": [],
   "source": [
    "newcompy_of_data.drop('ArabName', inplace=True,axis=1)"
   ]
  },
  {
   "cell_type": "code",
   "execution_count": null,
   "metadata": {},
   "outputs": [],
   "source": [
    "newcompy_of_data.shape"
   ]
  },
  {
   "cell_type": "code",
   "execution_count": null,
   "metadata": {},
   "outputs": [],
   "source": [
    "newcompy_of_data.info()"
   ]
  },
  {
   "cell_type": "code",
   "execution_count": null,
   "metadata": {},
   "outputs": [],
   "source": [
    "selected_columns=['Camp','FSP','IndividualId']\n",
    "newcompy_of_data.drop(selected_columns, inplace=True,axis=1)\n"
   ]
  },
  {
   "cell_type": "code",
   "execution_count": null,
   "metadata": {},
   "outputs": [],
   "source": [
    "newcompy_of_data.shape"
   ]
  },
  {
   "cell_type": "code",
   "execution_count": null,
   "metadata": {},
   "outputs": [],
   "source": []
  }
 ],
 "metadata": {
  "kernelspec": {
   "display_name": "Python 3",
   "language": "python",
   "name": "python3"
  },
  "language_info": {
   "codemirror_mode": {
    "name": "ipython",
    "version": 3
   },
   "file_extension": ".py",
   "mimetype": "text/x-python",
   "name": "python",
   "nbconvert_exporter": "python",
   "pygments_lexer": "ipython3",
   "version": "3.8.1"
  }
 },
 "nbformat": 4,
 "nbformat_minor": 4
}
