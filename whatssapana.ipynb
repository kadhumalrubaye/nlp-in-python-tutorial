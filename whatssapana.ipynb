{
 "cells": [
  {
   "cell_type": "code",
   "execution_count": null,
   "metadata": {},
   "outputs": [],
   "source": [
    "import re\n",
    "import pandas as pd\n",
    "import string\n",
    "\n",
    "# data=None\n",
    "# time=None\n",
    "# ampm=None\n",
    "# msg=None\n",
    "# he=None\n",
    "# she=None\n",
    "\n",
    "file = open(r'./alichat.txt',mode='r',encoding=\"utf8\")\n",
    "data = file.read()\n",
    "file.close()\n",
    "# bob, john, jen = [a.split() for a in open(file)]\n",
    "\n",
    "data\n",
    "'\\[\\d\\.\\d\\.\\d\\s\\d:\\d:\\d\\s\\w\\]'"
   ]
  },
  {
   "cell_type": "code",
   "execution_count": null,
   "metadata": {},
   "outputs": [],
   "source": []
  },
  {
   "cell_type": "code",
   "execution_count": null,
   "metadata": {},
   "outputs": [],
   "source": [
    "\n",
    "def clean_arabictext(text):\n",
    "    \n",
    "        jumla=text\n",
    "        \n",
    "        noise = re.compile(\"\"\"،| ّ    |  َ    |  ً    |  ُ    |  ٌ    |   ِ    |   ٍ    |  ْ    |   ـ \"\"\",re.VERBOSE)\n",
    "        \n",
    "        jumla = re.sub(noise, '', jumla)\n",
    "#         arabicword=re.sub(\"\\[.*?\\]\", '' ,jumla)\n",
    "#         arabicword=re.sub('\\w*\\d\\w*' ,'',jumla)\n",
    "        # arabicword=re.findall('^[\\u0621-\\u064A\\u0660-\\u0669-a-z ]*',jumla)\n",
    "#         arabicword = re.sub('[%s]' % re.escape(string.punctuation), '', jumla)\n",
    "        return jumla\n"
   ]
  },
  {
   "cell_type": "code",
   "execution_count": null,
   "metadata": {},
   "outputs": [],
   "source": [
    "data_without_diacritics=clean_arabictext(data)\n",
    "data_without_diacritics"
   ]
  },
  {
   "cell_type": "code",
   "execution_count": null,
   "metadata": {},
   "outputs": [],
   "source": []
  },
  {
   "cell_type": "code",
   "execution_count": null,
   "metadata": {},
   "outputs": [],
   "source": [
    "# print(data)\n",
    "# pattern = re.compile('[\\[0-9.:\\ A-Z\\]]*[a-z]*')\n",
    "arabic_msg_pattern='\\s[a-zA-Z\\u0621-\\u064A\\s\\n]+' #from alef-yaa including white spateces and new line(if the pattern was in new line)\n",
    "sender_pattern='([\\w:]+):'\n",
    "date_pattern='\\d{2}\\.\\d{2}\\.\\d{4}'\n",
    "time_pattern='\\d{2}:\\d{2}:\\d{2}\\s\\w{2}'\n",
    "full_date_pattern='\\[[0-9]+\\.[0-9]+\\.[0-9]+\\s\\]\\s'\n",
    "\n",
    "\n",
    "# pattern = re.compile('[\\[0-9.:\\sA-Z\\]]+[a-zA-Z0-9\\u0627-\\u064a\\s]+:\\s[\\u0621-\\u064A \\n]+') #determin our special rules\n",
    "# pattern='\\[\\d{2}\\.\\d{2}\\.\\d{4}\\s\\d{2}:\\d{2}:\\d{2}\\s\\w{2}\\]\\s[a-zA-Z0-9\\u0627-\\u064a\\s]*:[a-zA-Z0-9\\u0627-\\u064a\\s]*\\\\n'\n",
    "\n",
    "# pattern='[\\[0-9.:\\sA-Z\\]]+[a-zA-Z0-9\\u0627-\\u064a\\s]+:\\s[\\w*]*'\n",
    "#pattern = re.compile('[\\[0-9.:\\ A-Z\\]\\ ]+[a-zA-Z0-9\\u0627-\\u064a\\s]*:\\s[\\b\\u0621-\\u064A\\n\\s\\b]+') put the patterm between boundries\n",
    "#pattern=re.compile('\\d+:\\d+\\s+-\\s+([a-zA-Z0-9]+\\s?[a-zA-Z0-9]+\\s?[a-zA-Z0-9]+\\s?):\\s+')\n",
    "# pattern=re.compile('[\\[0-9.:\\ A-Z\\]]\\s+[\\w\\d\\s]+:\\s[\\W\\w\\d\\n\\s]+')\n",
    "\n",
    "# messengers = re.findall(pattern,data_without_diacritics,re.DOTALL) #splete each message line\n",
    "#now i will splite the date and time and sender and messeger\n",
    "messengers=data.split('\\n')\n",
    "messengers\n"
   ]
  },
  {
   "cell_type": "code",
   "execution_count": null,
   "metadata": {},
   "outputs": [],
   "source": [
    "\n",
    "    "
   ]
  },
  {
   "cell_type": "code",
   "execution_count": null,
   "metadata": {},
   "outputs": [],
   "source": [
    "# count_messages={}\n",
    "# for each in messengers:\n",
    "#     if each in count_messages.keys():\n",
    "#         count_messages[each]+=1\n",
    "#     else:\n",
    "#         count_messages[each]=1\n",
    "# count_messages"
   ]
  },
  {
   "cell_type": "code",
   "execution_count": null,
   "metadata": {},
   "outputs": [],
   "source": [
    "# messages_split = pattern.split(data)\n"
   ]
  },
  {
   "cell_type": "code",
   "execution_count": null,
   "metadata": {},
   "outputs": [],
   "source": [
    "# sep_msgs=[]\n",
    "# for each in count_messages.keys():\n",
    "#     for msg in range(len(messages_split)):\n",
    "#         if each == messages_split[msg]:\n",
    "#             sep_msgs.append(messages_split[msg+1])   #obtaining the message mentioned after sender along with dates\n",
    "# print(len(sep_msgs))   \n",
    "# sep_msgs[0]"
   ]
  },
  {
   "cell_type": "code",
   "execution_count": null,
   "metadata": {},
   "outputs": [],
   "source": [
    "ls=[]\n",
    "for i in messengers:\n",
    "    date_pattern_= re.findall(date_pattern,i)\n",
    "    time_pattern_= re.findall(time_pattern,i)\n",
    "    sender= re.findall(sender_pattern,i)\n",
    "    msg=re.findall(arabic_msg_pattern,i,re.DOTALL)\n",
    "    tp=(date_pattern_,time_pattern_,sender,msg)\n",
    "    ls.append(tp)\n",
    "ls"
   ]
  },
  {
   "cell_type": "code",
   "execution_count": null,
   "metadata": {},
   "outputs": [],
   "source": [
    "noise=re.compile(':|\\\\n')\n",
    "# for i in ls:\n",
    "#     cela=re.sub(noise,str(''.join(i)))\n",
    "#     print(i)\n",
    "\n",
    "df=pd.DataFrame.from_records(ls,columns=['date','time','sender','msg'])\n",
    "# df=df.set_index('date')\n",
    "df"
   ]
  },
  {
   "cell_type": "code",
   "execution_count": null,
   "metadata": {},
   "outputs": [],
   "source": [
    "def celanclmn(text):\n",
    "    noise=re.compile(\"\"\" \\\\\\| \\]|\\[|'|;|,|n| \"\"\",re.VERBOSE)\n",
    "    text=str(text)\n",
    "    text=re.sub(noise,'',text)\n",
    "#     text=text.replace('\\',' ')\n",
    "    return text\n",
    "\n",
    "round1=lambda x:celanclmn(x)\n",
    "round1('he]')"
   ]
  },
  {
   "cell_type": "code",
   "execution_count": null,
   "metadata": {},
   "outputs": [],
   "source": [
    "# df['date'].apply(round1)"
   ]
  },
  {
   "cell_type": "code",
   "execution_count": null,
   "metadata": {},
   "outputs": [],
   "source": [
    "\n",
    "mdf=pd.DataFrame()\n",
    "for clmn in df:\n",
    "    mdf[clmn]=df[clmn].apply(round1)\n",
    " \n",
    "pd.set_option('max_colwidth',300)\n",
    "mdf.head(50)\n",
    "# mdf=df[['date', 'time']]\n",
    "# mdf\n",
    "#TODO donot remove : of the time"
   ]
  },
  {
   "cell_type": "code",
   "execution_count": null,
   "metadata": {},
   "outputs": [],
   "source": [
    "#convert to csv\n",
    "from pandas import ExcelWriter\n",
    "writer = ExcelWriter('aaasilchat.xlsx')\n",
    "mdf.to_excel(writer,'Sheet5')\n",
    "writer.save()\n",
    "\n",
    "# DF TO CSV\n",
    "mdf.to_csv('asilchat.csv', sep=',')"
   ]
  },
  {
   "cell_type": "code",
   "execution_count": null,
   "metadata": {},
   "outputs": [],
   "source": []
  },
  {
   "cell_type": "code",
   "execution_count": null,
   "metadata": {},
   "outputs": [],
   "source": []
  }
 ],
 "metadata": {
  "kernelspec": {
   "display_name": "Python 3",
   "language": "python",
   "name": "python3"
  },
  "language_info": {
   "codemirror_mode": {
    "name": "ipython",
    "version": 3
   },
   "file_extension": ".py",
   "mimetype": "text/x-python",
   "name": "python",
   "nbconvert_exporter": "python",
   "pygments_lexer": "ipython3",
   "version": "3.8.1"
  }
 },
 "nbformat": 4,
 "nbformat_minor": 4
}
