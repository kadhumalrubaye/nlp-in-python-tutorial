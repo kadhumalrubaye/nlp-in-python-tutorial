{
 "cells": [
  {
   "cell_type": "code",
   "execution_count": 5,
   "metadata": {},
   "outputs": [],
   "source": [
    "from bs4 import BeautifulSoup\n",
    "import requests\n",
    "import pandas as pd\n",
    "\n",
    "\n",
    "import matplotlib.pyplot as plt\n",
    "%matplotlib inline\n",
    "\n",
    "page=requests.get('https://sotor.com/%D9%85%D9%82%D8%A7%D9%84_%D9%88%D8%B5%D9%81%D9%8A_%D8%B9%D9%86_%D8%A7%D9%84%D9%85%D8%B7%D8%B1')\n",
    "soup = BeautifulSoup(page.content, 'html.parser')\n",
    "artical =soup.find(id='mw-content-text')\n",
    "par=artical.find('p').text\n",
    "author='kadhum'\n",
    "data_list=[]\n",
    "data_list.append(par)\n",
    "data={}\n",
    "data[author]=data_list\n",
    "\n",
    "\n",
    "\n",
    "page2=requests.get('https://mawdoo3.com/%D8%AA%D9%82%D8%B1%D9%8A%D8%B1_%D8%B9%D9%86_%D8%A7%D9%84%D9%85%D8%B7%D8%B1')\n",
    "soup2 = BeautifulSoup(page2.content, 'html.parser')\n",
    "artical2=soup2.find(id='mw-content-text')\n",
    "par2=artical2.find('p').text\n",
    "author2='ali'\n",
    "data_list2=[]\n",
    "data_list2.append(par2)\n",
    "data2={}\n",
    "data2[author2]=data_list2\n",
    "\n",
    "data.update(data2)\n",
    "\n",
    "\n",
    "\n",
    "\n"
   ]
  },
  {
   "cell_type": "code",
   "execution_count": 6,
   "metadata": {},
   "outputs": [
    {
     "name": "stdout",
     "output_type": "stream",
     "text": [
      "{'kadhum': ['عند كتابة مقال وصفي عن المطر فإنّه سيتم الحديث عن إحدى الظواهر الكونية التي لها رمزيّة خاصة بالنسبة للناس، فهطول المطر يعني بداية وصول الخير الذي تنتفع به الأرض والإنسان والحيوانات، فقد خلق الله تعالى الماء، وجعله سبب الحياة في هذه الأرض، وهناك العديد من المناطق حول العالم التي تعد الأمطار مصدر المياه الوحيد بالنسبة لها، وفي الفترات التي ينحبس فيها المطر عن تلك المناطق، تجف الأرض، وتذبل النباتات، وتشعر الحيوانات بالعطش الشديد، وهناك بعض المناطق الأخرى التي يكون هطول المطر فيها كثيفًا تبعًا للتضاريس الأرضية، وموقع هذه المناطق بالنسبة لخطوط الطول ودوائر العرض، حيث تُكسبها تلك المواقع خصوصية مطرية مختلفة.'], 'ali': ['المطر هو قطرات الماء التي تتساقط من السحاب على الأرض، والتي تبثّ الحياة في الكائنات على اختلافها، ويعتبر المطر شكلاً من أشكال الماء في الطبيعة، حيث يمثّل الحالة السائلة للماء، ويتكوّن من خلال تبخّر مياه المسطّحات المائيّة المختلفة بفعل أشعّة الشمس فيتحوّل الماء من الحالة السائلة إلى البخار أو الحالة الغازيّة، ثمّ يصعد لأعالي الجو، ويلامس الطبقات الباردة منه، مسبّباً حدوث التكاثف، فتمتلأ الغيوم به وتنتقل من مكانٍ لآخر بفعل الرياح وتتساقط أخيراً عليها، وتتساقط الأمطار في فصل الشتاء تحديداً في الوضع الطبيعي، أما في المناطق الاستوائية  فتتساقط بكثافةٍ على مدار السنة، والمطر هو من أساسيات وجود الماء على سطح الكرة الأرضيّة، ويقول الله سبحانه وتعالى في محكم تنزيله في القرآن الكريم: \"وَجَعَلْنَا مِنَ الْمَاء كُلَّ شَيْءٍ حَيٍّ\"، في إشارةٍ لعظم أهميّة الماء الذي يضمن الحياة للكائنات الحية من إنسانٍ ونباتٍ وحيوان، ويؤدّي نقصها وشحها إلى تهديد حياته وهلاكه، وفي هذا المقال سنتطرق للحديث عن فوائد المطر والأخطار الناجمة عن قلّة تساقطه.\\n']}\n"
     ]
    }
   ],
   "source": [
    "print(data)"
   ]
  },
  {
   "cell_type": "code",
   "execution_count": 7,
   "metadata": {},
   "outputs": [
    {
     "data": {
      "text/html": [
       "<div>\n",
       "<style scoped>\n",
       "    .dataframe tbody tr th:only-of-type {\n",
       "        vertical-align: middle;\n",
       "    }\n",
       "\n",
       "    .dataframe tbody tr th {\n",
       "        vertical-align: top;\n",
       "    }\n",
       "\n",
       "    .dataframe thead th {\n",
       "        text-align: right;\n",
       "    }\n",
       "</style>\n",
       "<table border=\"1\" class=\"dataframe\">\n",
       "  <thead>\n",
       "    <tr style=\"text-align: right;\">\n",
       "      <th></th>\n",
       "      <th>novels</th>\n",
       "    </tr>\n",
       "  </thead>\n",
       "  <tbody>\n",
       "    <tr>\n",
       "      <th>ali</th>\n",
       "      <td>المطر هو قطرات الماء التي تتساقط من السحاب على الأرض، والتي تبثّ الحياة في الكائنات على اختلافها، ويعتبر المطر شكلاً من أشكال الماء في الطبيعة، حي...</td>\n",
       "    </tr>\n",
       "    <tr>\n",
       "      <th>kadhum</th>\n",
       "      <td>عند كتابة مقال وصفي عن المطر فإنّه سيتم الحديث عن إحدى الظواهر الكونية التي لها رمزيّة خاصة بالنسبة للناس، فهطول المطر يعني بداية وصول الخير الذي ...</td>\n",
       "    </tr>\n",
       "  </tbody>\n",
       "</table>\n",
       "</div>"
      ],
      "text/plain": [
       "                                                                                                                                                       novels\n",
       "ali     المطر هو قطرات الماء التي تتساقط من السحاب على الأرض، والتي تبثّ الحياة في الكائنات على اختلافها، ويعتبر المطر شكلاً من أشكال الماء في الطبيعة، حي...\n",
       "kadhum  عند كتابة مقال وصفي عن المطر فإنّه سيتم الحديث عن إحدى الظواهر الكونية التي لها رمزيّة خاصة بالنسبة للناس، فهطول المطر يعني بداية وصول الخير الذي ..."
      ]
     },
     "execution_count": 7,
     "metadata": {},
     "output_type": "execute_result"
    }
   ],
   "source": [
    "pd.set_option('max_colwidth',150)\n",
    "df=pd.DataFrame.from_dict(data).transpose()\n",
    "df.columns=['novels']\n",
    "\n",
    "df=df.sort_index()\n",
    "# print(df.sort_index())\n",
    "\n",
    "df"
   ]
  },
  {
   "cell_type": "code",
   "execution_count": 8,
   "metadata": {},
   "outputs": [
    {
     "data": {
      "text/html": [
       "<div>\n",
       "<style scoped>\n",
       "    .dataframe tbody tr th:only-of-type {\n",
       "        vertical-align: middle;\n",
       "    }\n",
       "\n",
       "    .dataframe tbody tr th {\n",
       "        vertical-align: top;\n",
       "    }\n",
       "\n",
       "    .dataframe thead th {\n",
       "        text-align: right;\n",
       "    }\n",
       "</style>\n",
       "<table border=\"1\" class=\"dataframe\">\n",
       "  <thead>\n",
       "    <tr style=\"text-align: right;\">\n",
       "      <th></th>\n",
       "      <th>novels</th>\n",
       "    </tr>\n",
       "  </thead>\n",
       "  <tbody>\n",
       "    <tr>\n",
       "      <th>ali</th>\n",
       "      <td>المطر هو قطرات الماء التي تتساقط من السحاب على الأرض والتي تبث الحياة في الكائنات على اختلافها ويعتبر المطر شكلا من أشكال الماء في الطبيعة حيث يمث...</td>\n",
       "    </tr>\n",
       "    <tr>\n",
       "      <th>kadhum</th>\n",
       "      <td>عند كتابة مقال وصفي عن المطر فإنه سيتم الحديث عن إحدى الظواهر الكونية التي لها رمزية خاصة بالنسبة للناس فهطول المطر يعني بداية وصول الخير الذي تنت...</td>\n",
       "    </tr>\n",
       "  </tbody>\n",
       "</table>\n",
       "</div>"
      ],
      "text/plain": [
       "                                                                                                                                                       novels\n",
       "ali     المطر هو قطرات الماء التي تتساقط من السحاب على الأرض والتي تبث الحياة في الكائنات على اختلافها ويعتبر المطر شكلا من أشكال الماء في الطبيعة حيث يمث...\n",
       "kadhum  عند كتابة مقال وصفي عن المطر فإنه سيتم الحديث عن إحدى الظواهر الكونية التي لها رمزية خاصة بالنسبة للناس فهطول المطر يعني بداية وصول الخير الذي تنت..."
      ]
     },
     "execution_count": 8,
     "metadata": {},
     "output_type": "execute_result"
    }
   ],
   "source": [
    "import re\n",
    "import string\n",
    "\n",
    "def clean_text(text):\n",
    "    \n",
    "        jumla=text\n",
    "        noise = re.compile(\"\"\"،| ّ    |  َ    |  ً    |  ُ    |  ٌ    |   ِ    |   ٍ    |  ْ    |   ـ \"\"\",re.VERBOSE)\n",
    "        jumla = re.sub(noise, '', jumla)\n",
    "        arabicword=re.sub(\"\\[.*?\\]\", '' ,jumla)\n",
    "        arabicword=re.sub('\\w*\\d\\w*' ,'',jumla)\n",
    "        # arabicword=re.findall('^[\\u0621-\\u064A\\u0660-\\u0669-a-z ]*',jumla)\n",
    "        arabicword = re.sub('[%s]' % re.escape(string.punctuation), '', jumla)\n",
    "        return arabicword\n",
    "round1=lambda x:clean_text(x)\n",
    "datacelan=pd.DataFrame(df.novels.apply(round1))\n",
    "datacelan"
   ]
  },
  {
   "cell_type": "code",
   "execution_count": 9,
   "metadata": {},
   "outputs": [
    {
     "data": {
      "text/html": [
       "<div>\n",
       "<style scoped>\n",
       "    .dataframe tbody tr th:only-of-type {\n",
       "        vertical-align: middle;\n",
       "    }\n",
       "\n",
       "    .dataframe tbody tr th {\n",
       "        vertical-align: top;\n",
       "    }\n",
       "\n",
       "    .dataframe thead th {\n",
       "        text-align: right;\n",
       "    }\n",
       "</style>\n",
       "<table border=\"1\" class=\"dataframe\">\n",
       "  <thead>\n",
       "    <tr style=\"text-align: right;\">\n",
       "      <th></th>\n",
       "      <th>novels</th>\n",
       "    </tr>\n",
       "  </thead>\n",
       "  <tbody>\n",
       "    <tr>\n",
       "      <th>ali</th>\n",
       "      <td>المطر هو قطرات الماء التي تتساقط من السحاب على الأرض والتي تبث الحياة في الكائنات على اختلافها ويعتبر المطر شكلا من أشكال الماء في الطبيعة حيث يمث...</td>\n",
       "    </tr>\n",
       "    <tr>\n",
       "      <th>kadhum</th>\n",
       "      <td>عند كتابة مقال وصفي عن المطر فإنه سيتم الحديث عن إحدى الظواهر الكونية التي لها رمزية خاصة بالنسبة للناس فهطول المطر يعني بداية وصول الخير الذي تنت...</td>\n",
       "    </tr>\n",
       "  </tbody>\n",
       "</table>\n",
       "</div>"
      ],
      "text/plain": [
       "                                                                                                                                                       novels\n",
       "ali     المطر هو قطرات الماء التي تتساقط من السحاب على الأرض والتي تبث الحياة في الكائنات على اختلافها ويعتبر المطر شكلا من أشكال الماء في الطبيعة حيث يمث...\n",
       "kadhum  عند كتابة مقال وصفي عن المطر فإنه سيتم الحديث عن إحدى الظواهر الكونية التي لها رمزية خاصة بالنسبة للناس فهطول المطر يعني بداية وصول الخير الذي تنت..."
      ]
     },
     "execution_count": 9,
     "metadata": {},
     "output_type": "execute_result"
    }
   ],
   "source": [
    "def clean_text_round2(text):\n",
    "    '''Get rid of some additional punctuation and non-sensical text that was missed the first time around.'''\n",
    "    text = re.sub('[‘’“”…]', '', text)\n",
    "    text = re.sub('\\n', '', text)\n",
    "    return text\n",
    "\n",
    "round2 = lambda x: clean_text_round2(x)\n",
    "datacelan=pd.DataFrame(df.novels.apply(round1))\n",
    "datacelan"
   ]
  },
  {
   "cell_type": "code",
   "execution_count": 10,
   "metadata": {},
   "outputs": [
    {
     "data": {
      "text/html": [
       "<div>\n",
       "<style scoped>\n",
       "    .dataframe tbody tr th:only-of-type {\n",
       "        vertical-align: middle;\n",
       "    }\n",
       "\n",
       "    .dataframe tbody tr th {\n",
       "        vertical-align: top;\n",
       "    }\n",
       "\n",
       "    .dataframe thead th {\n",
       "        text-align: right;\n",
       "    }\n",
       "</style>\n",
       "<table border=\"1\" class=\"dataframe\">\n",
       "  <thead>\n",
       "    <tr style=\"text-align: right;\">\n",
       "      <th></th>\n",
       "      <th>أخيرا</th>\n",
       "      <th>أساسيات</th>\n",
       "      <th>أشعة</th>\n",
       "      <th>أشكال</th>\n",
       "      <th>أما</th>\n",
       "      <th>أهمية</th>\n",
       "      <th>أو</th>\n",
       "      <th>إحدى</th>\n",
       "      <th>إشارة</th>\n",
       "      <th>إنسان</th>\n",
       "      <th>...</th>\n",
       "      <th>ويتكون</th>\n",
       "      <th>ويعتبر</th>\n",
       "      <th>ويقول</th>\n",
       "      <th>ويلامس</th>\n",
       "      <th>يصعد</th>\n",
       "      <th>يضمن</th>\n",
       "      <th>يعني</th>\n",
       "      <th>يكون</th>\n",
       "      <th>يمثل</th>\n",
       "      <th>ينحبس</th>\n",
       "    </tr>\n",
       "  </thead>\n",
       "  <tbody>\n",
       "    <tr>\n",
       "      <th>ali</th>\n",
       "      <td>1</td>\n",
       "      <td>1</td>\n",
       "      <td>1</td>\n",
       "      <td>1</td>\n",
       "      <td>1</td>\n",
       "      <td>1</td>\n",
       "      <td>1</td>\n",
       "      <td>0</td>\n",
       "      <td>1</td>\n",
       "      <td>1</td>\n",
       "      <td>...</td>\n",
       "      <td>1</td>\n",
       "      <td>1</td>\n",
       "      <td>1</td>\n",
       "      <td>1</td>\n",
       "      <td>1</td>\n",
       "      <td>1</td>\n",
       "      <td>0</td>\n",
       "      <td>0</td>\n",
       "      <td>1</td>\n",
       "      <td>0</td>\n",
       "    </tr>\n",
       "    <tr>\n",
       "      <th>kadhum</th>\n",
       "      <td>0</td>\n",
       "      <td>0</td>\n",
       "      <td>0</td>\n",
       "      <td>0</td>\n",
       "      <td>0</td>\n",
       "      <td>0</td>\n",
       "      <td>0</td>\n",
       "      <td>1</td>\n",
       "      <td>0</td>\n",
       "      <td>0</td>\n",
       "      <td>...</td>\n",
       "      <td>0</td>\n",
       "      <td>0</td>\n",
       "      <td>0</td>\n",
       "      <td>0</td>\n",
       "      <td>0</td>\n",
       "      <td>0</td>\n",
       "      <td>1</td>\n",
       "      <td>1</td>\n",
       "      <td>0</td>\n",
       "      <td>1</td>\n",
       "    </tr>\n",
       "  </tbody>\n",
       "</table>\n",
       "<p>2 rows × 182 columns</p>\n",
       "</div>"
      ],
      "text/plain": [
       "        أخيرا  أساسيات  أشعة  أشكال  أما  أهمية  أو  إحدى  إشارة  إنسان  ...  \\\n",
       "ali         1        1     1      1    1      1   1     0      1      1  ...   \n",
       "kadhum      0        0     0      0    0      0   0     1      0      0  ...   \n",
       "\n",
       "        ويتكون  ويعتبر  ويقول  ويلامس  يصعد  يضمن  يعني  يكون  يمثل  ينحبس  \n",
       "ali          1       1      1       1     1     1     0     0     1      0  \n",
       "kadhum       0       0      0       0     0     0     1     1     0      1  \n",
       "\n",
       "[2 rows x 182 columns]"
      ]
     },
     "execution_count": 10,
     "metadata": {},
     "output_type": "execute_result"
    }
   ],
   "source": [
    "arabic_stop_words=[\"من\",\"إلى\"]\n",
    "from sklearn.feature_extraction.text import CountVectorizer\n",
    "\n",
    "cv = CountVectorizer(stop_words=arabic_stop_words)\n",
    "data_cv = cv.fit_transform(datacelan.novels)\n",
    "data_dtm = pd.DataFrame(data_cv.toarray(), columns=cv.get_feature_names())\n",
    "data_dtm.index = datacelan.index\n",
    "data_dtm"
   ]
  },
  {
   "cell_type": "code",
   "execution_count": 11,
   "metadata": {},
   "outputs": [
    {
     "ename": "SyntaxError",
     "evalue": "invalid syntax (<ipython-input-11-a8e8c254c0a1>, line 1)",
     "output_type": "error",
     "traceback": [
      "\u001b[1;36m  File \u001b[1;32m\"<ipython-input-11-a8e8c254c0a1>\"\u001b[1;36m, line \u001b[1;32m1\u001b[0m\n\u001b[1;33m    flip data\u001b[0m\n\u001b[1;37m         ^\u001b[0m\n\u001b[1;31mSyntaxError\u001b[0m\u001b[1;31m:\u001b[0m invalid syntax\n"
     ]
    }
   ],
   "source": [
    "flip data"
   ]
  },
  {
   "cell_type": "code",
   "execution_count": null,
   "metadata": {},
   "outputs": [],
   "source": [
    "filped_data=data_dtm.T\n",
    "\n",
    "filped_data.mean"
   ]
  },
  {
   "cell_type": "code",
   "execution_count": null,
   "metadata": {},
   "outputs": [],
   "source": [
    "filped_data.plot()"
   ]
  },
  {
   "cell_type": "code",
   "execution_count": null,
   "metadata": {},
   "outputs": [],
   "source": []
  }
 ],
 "metadata": {
  "kernelspec": {
   "display_name": "Python 3",
   "language": "python",
   "name": "python3"
  },
  "language_info": {
   "codemirror_mode": {
    "name": "ipython",
    "version": 3
   },
   "file_extension": ".py",
   "mimetype": "text/x-python",
   "name": "python",
   "nbconvert_exporter": "python",
   "pygments_lexer": "ipython3",
   "version": "3.8.1"
  }
 },
 "nbformat": 4,
 "nbformat_minor": 4
}
